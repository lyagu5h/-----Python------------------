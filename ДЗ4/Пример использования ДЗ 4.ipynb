{
  "cells": [
    {
      "cell_type": "markdown",
      "id": "ea47d726-7516-4847-98f9-0d384d45e080",
      "metadata": {
        "id": "ea47d726-7516-4847-98f9-0d384d45e080"
      },
      "source": [
        "# Задача: Модель магазина\n",
        "\n",
        "## Пример использования\n",
        "\n",
        "```python\n",
        "# Создаем магазин\n",
        "store = Store()\n",
        "\n",
        "# Создаем товары\n",
        "product1 = Product(\"Ноутбук\", 1000, 5)\n",
        "product2 = Product(\"Смартфон\", 500, 10)\n",
        "\n",
        "# Добавляем товары в магазин\n",
        "store.add_product(product1)\n",
        "store.add_product(product2)\n",
        "\n",
        "# Список всех товаров\n",
        "store.list_products()\n",
        "\n",
        "# Создаем заказ\n",
        "order = store.create_order()\n",
        "\n",
        "# Добавляем товары в заказ\n",
        "order.add_product(product1, 2)\n",
        "order.add_product(product2, 3)\n",
        "\n",
        "# Выводим общую стоимость заказа\n",
        "total = order.calculate_total()\n",
        "print(f\"Общая стоимость заказа: {total}\")\n",
        "\n",
        "# Проверяем остатки на складе после заказа\n",
        "store.list_products()\n",
        "```"
      ]
    }
  ],
  "metadata": {
    "kernelspec": {
      "display_name": "Python 3 (ipykernel)",
      "language": "python",
      "name": "python3"
    },
    "language_info": {
      "codemirror_mode": {
        "name": "ipython",
        "version": 3
      },
      "file_extension": ".py",
      "mimetype": "text/x-python",
      "name": "python",
      "nbconvert_exporter": "python",
      "pygments_lexer": "ipython3",
      "version": "3.12.6"
    },
    "colab": {
      "provenance": []
    }
  },
  "nbformat": 4,
  "nbformat_minor": 5
}