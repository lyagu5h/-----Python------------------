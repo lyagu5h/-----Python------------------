{
 "cells": [
  {
   "cell_type": "markdown",
   "metadata": {},
   "source": [
    "### Задание 1. Обработка деления на ноль\n",
    "Напишите программу, которая принимает два числа от пользователя и выводит результат их деления. Используйте обработку исключений, чтобы корректно обработать ситуацию, когда пользователь вводит 0 в качестве второго числа."
   ]
  },
  {
   "cell_type": "code",
   "execution_count": 33,
   "metadata": {},
   "outputs": [
    {
     "name": "stdout",
     "output_type": "stream",
     "text": [
      "2.0\n",
      "На нуль делить нельзя!\n",
      "2.5\n"
     ]
    }
   ],
   "source": [
    "params1 = [4, 2]\n",
    "params2 = [4, 0]\n",
    "params3 = [5, 2]\n",
    "\n",
    "def division(a, b):\n",
    "    result = 0\n",
    "    \n",
    "    try:\n",
    "        result = a / b\n",
    "    except ZeroDivisionError as error:\n",
    "        return error\n",
    "    else:\n",
    "        return result\n",
    "\n",
    "divisionParams1 = division(*params1)\n",
    "print(divisionParams1)\n",
    "\n",
    "divisionParams2 = division(*params2)\n",
    "print(divisionParams2)\n",
    "\n",
    "divisionParams3= division(*params3)\n",
    "print(divisionParams3)"
   ]
  },
  {
   "cell_type": "markdown",
   "metadata": {},
   "source": [
    "### Задание 2. Обработка некорректного ввода\n",
    "Расширьте предыдущую программу, чтобы она также обрабатывала ситуацию, когда пользователь вводит строку вместо числа. Используйте несколько блоков except для обработки разных типов исключений."
   ]
  },
  {
   "cell_type": "code",
   "execution_count": 19,
   "metadata": {},
   "outputs": [
    {
     "name": "stdout",
     "output_type": "stream",
     "text": [
      "2.0\n",
      "division by zero\n",
      "2.5\n",
      "unsupported operand type(s) for /: 'int' and 'str'\n"
     ]
    }
   ],
   "source": [
    "params1 = [4, 2]\n",
    "params2 = [4, 0]\n",
    "params3 = [5, 2]\n",
    "params4 = [4, '2']\n",
    "\n",
    "def division(a, b):\n",
    "    result = 0\n",
    "    \n",
    "    try:\n",
    "        result = a / b\n",
    "    except ZeroDivisionError as error:\n",
    "        return error\n",
    "    except TypeError as error:\n",
    "        return error\n",
    "    else:\n",
    "        return result\n",
    "\n",
    "divisionParams1 = division(*params1)\n",
    "print(divisionParams1)\n",
    "\n",
    "divisionParams2 = division(*params2)\n",
    "print(divisionParams2)\n",
    "\n",
    "divisionParams3= division(*params3)\n",
    "print(divisionParams3)\n",
    "\n",
    "divisionParams4= division(*params4)\n",
    "print(divisionParams4)"
   ]
  },
  {
   "cell_type": "markdown",
   "metadata": {},
   "source": [
    "### Задание 3. Создание собственных исключений.\n",
    "Напишите программу, которая вычисляет сумму списка целых чисел. Создайте свои собственные классы исключений для обработки ситуаций, когда в списке есть хотя бы одно чётное или отрицательное число. Используйте оператор raise для генерации исключений."
   ]
  },
  {
   "cell_type": "code",
   "execution_count": 17,
   "metadata": {},
   "outputs": [
    {
     "name": "stdout",
     "output_type": "stream",
     "text": [
      "Найдено чётное число!\n",
      "Найдено отрицательное число!\n",
      "16\n"
     ]
    }
   ],
   "source": [
    "list1 = [1, 2, 3, 5, 7]\n",
    "list2 = [1, -3, 5, 7]\n",
    "list3 = [1, 3, 5, 7]\n",
    "\n",
    "\n",
    "class EvenNumberError(Exception):\n",
    "    def __str__(self):\n",
    "        return 'Найдено чётное число!'\n",
    "\n",
    "class NegativeNumberError(Exception):\n",
    "    def __str__(self):\n",
    "        return 'Найдено отрицательное число!'\n",
    "\n",
    "def sum_list(list):\n",
    "    try:\n",
    "        for number in list: \n",
    "            if (number < 0):\n",
    "                raise NegativeNumberError()\n",
    "            elif (number % 2 == 0):\n",
    "                raise EvenNumberError()\n",
    "    except EvenNumberError as error: return error\n",
    "    except NegativeNumberError as error: return error\n",
    "    else: return sum(list)\n",
    "\n",
    "\n",
    "print(sum_list(list1))\n",
    "print(sum_list(list2))\n",
    "print(sum_list(list3))"
   ]
  },
  {
   "cell_type": "markdown",
   "metadata": {},
   "source": [
    "### Задание 4. Обработка ошибок индексации.\n",
    "Напишите программу, которая принимает от пользователя индекс элемента списка и выводит значение этого элемента. Используйте обработку исключений для корректной обработки ситуаций, когда пользователь вводит индекс, выходящий за пределы списка."
   ]
  },
  {
   "cell_type": "code",
   "execution_count": 30,
   "metadata": {},
   "outputs": [
    {
     "name": "stdout",
     "output_type": "stream",
     "text": [
      "2\n",
      "4\n",
      "list index out of range\n"
     ]
    }
   ],
   "source": [
    "list = [1, 2, 3, 4, 5]\n",
    "\n",
    "def find_element_by_index(index, list):\n",
    "    try:\n",
    "        return list[index]\n",
    "    except IndexError as error: return error\n",
    "\n",
    "print(find_element_by_index(1, list))\n",
    "print(find_element_by_index(3, list))\n",
    "print(find_element_by_index(6, list))"
   ]
  },
  {
   "cell_type": "markdown",
   "metadata": {},
   "source": [
    "### Задание 5. Обработка ошибок преобразования типов\n",
    "Напишите программу, которая принимает от пользователя строку и преобразует её в число с плавающей точкой. Используйте обработку исключений для корректной обработки ситуаций, когда пользователь вводит строку, которую невозможно преобразовать в число."
   ]
  },
  {
   "cell_type": "code",
   "execution_count": 1,
   "metadata": {},
   "outputs": [
    {
     "name": "stdout",
     "output_type": "stream",
     "text": [
      "5463.0\n",
      "could not convert string to float: 'abc'\n"
     ]
    }
   ],
   "source": [
    "string1 = '5463'\n",
    "string2 = 'abc'\n",
    "\n",
    "def convert_string_to_num (string):\n",
    "    try: return float(string)\n",
    "    except ValueError as error: return error\n",
    "\n",
    "print(convert_string_to_num(string1))\n",
    "print(convert_string_to_num(string2))"
   ]
  },
  {
   "cell_type": "markdown",
   "metadata": {},
   "source": [
    "### Задание 6. Обработка ошибок импорта модулей\n",
    "Напишите программу, которая импортирует модуль math и использует функцию sqrt() для вычисления квадратного корня числа, введённого пользователем. Используйте обработку исключений для корректной обработки ситуаций, когда модуль math не может быть импортирован или функция sqrt() не может быть вызвана для отрицательного числа."
   ]
  },
  {
   "cell_type": "code",
   "execution_count": 5,
   "metadata": {},
   "outputs": [
    {
     "name": "stdout",
     "output_type": "stream",
     "text": [
      "2.23606797749979\n"
     ]
    }
   ],
   "source": [
    "try:\n",
    "    import math\n",
    "    num = float(input('Введите число:\\n'))\n",
    "\n",
    "    try:\n",
    "        result = math.sqrt(num)\n",
    "    except ValueError as error: print(\"Error: It is impossible to get a square root from a negative number.\")\n",
    "    else: print(result)\n",
    "except ValueError as error: print(\"Wrong input format\")\n",
    "except ImportError as error: print(error)"
   ]
  }
 ],
 "metadata": {
  "kernelspec": {
   "display_name": "Python 3",
   "language": "python",
   "name": "python3"
  },
  "language_info": {
   "codemirror_mode": {
    "name": "ipython",
    "version": 3
   },
   "file_extension": ".py",
   "mimetype": "text/x-python",
   "name": "python",
   "nbconvert_exporter": "python",
   "pygments_lexer": "ipython3",
   "version": "3.12.5"
  }
 },
 "nbformat": 4,
 "nbformat_minor": 2
}
