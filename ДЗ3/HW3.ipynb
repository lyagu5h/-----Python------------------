{
 "cells": [
  {
   "cell_type": "markdown",
   "metadata": {},
   "source": [
    "### Задание 1\n",
    "Напишите программу, которая создаёт 2 потока для вычисления квадратов и кубов целых чисел от 1 до 10."
   ]
  },
  {
   "cell_type": "code",
   "execution_count": null,
   "metadata": {},
   "outputs": [],
   "source": [
    "from threading import Thread;\n",
    "\n",
    "def calculate_squares():\n",
    "    for i in range(1, 11):\n",
    "        print(f\"{i}^2 = {i ** 2}\")\n",
    "\n",
    "def calculate_cubes():\n",
    "    for i in range(1, 11):\n",
    "        print(f\"{i}^3 = {i ** 3}\")\n",
    "\n",
    "if __name__ == '__main__':\n",
    "    square_thread = Thread(target=calculate_squares)\n",
    "    cube_thread = Thread(target=calculate_cubes)\n",
    "\n",
    "    square_thread.start()\n",
    "    cube_thread.start()\n",
    "\n",
    "    square_thread.join()\n",
    "    cube_thread.join()"
   ]
  },
  {
   "cell_type": "markdown",
   "metadata": {},
   "source": [
    "### Задание 2\n",
    "Напишите программу, которая создаёт несколько потоков для выполнения функции, которая выводит целые числа от 1 до 10 с задержкой в 1 секунду."
   ]
  },
  {
   "cell_type": "code",
   "execution_count": null,
   "metadata": {},
   "outputs": [],
   "source": [
    "from threading import Thread\n",
    "import time\n",
    "\n",
    "def print_numbers():\n",
    "    for i in range(1, 11):\n",
    "        print(i)\n",
    "        time.sleep(1)\n",
    "\n",
    "if __name__ == '__main__': \n",
    "    threads = [Thread(target=print_numbers) for _ in range(3)]\n",
    "\n",
    "    for thread in threads:\n",
    "        thread.start()\n",
    "        \n",
    "    for thread in threads:\n",
    "        thread.join()\n"
   ]
  },
  {
   "cell_type": "markdown",
   "metadata": {},
   "source": [
    "### Задание 3\n",
    "Напишите программу, которая асинхронно обрабатывает список чисел, вычисляя их квадрат. Каждая операция обработки должна имитировать задержку в 1 секунду."
   ]
  },
  {
   "cell_type": "code",
   "execution_count": null,
   "metadata": {},
   "outputs": [],
   "source": [
    "import asyncio\n",
    "\n",
    "async def calcualte_square(num):\n",
    "    await asyncio.sleep(1)\n",
    "    return num * num\n",
    "\n",
    "async def process_list(list):\n",
    "    tasks = [calcualte_square(i) for i in list]\n",
    "    results = await asyncio.gather(*tasks)\n",
    "    return results\n",
    "\n",
    "async def main():\n",
    "    list = [1, 2, 3, 4, 5]\n",
    "    results = await process_list(list)\n",
    "    print(results)\n",
    "\n",
    "asyncio.run(main())"
   ]
  },
  {
   "cell_type": "markdown",
   "metadata": {},
   "source": [
    "### Задание 4\n",
    "Напишите программу, которая использует многопроцессность для вычисления факториала целых чисел от 1 до 10. Каждый процесс должен вычислять факториал одного числа."
   ]
  },
  {
   "cell_type": "code",
   "execution_count": null,
   "metadata": {},
   "outputs": [],
   "source": [
    "from multiprocessing import Process\n",
    "import math\n",
    "\n",
    "def compute_factorial(n):\n",
    "    print(math.factorial(n))\n",
    "\n",
    "if __name__ == '__main__': \n",
    "    processes = []\n",
    "    for i in range(1, 11):\n",
    "        process = Process(target=compute_factorial, args=(i,))\n",
    "        processes.append(process)\n",
    "        process.start()\n",
    "        \n",
    "    for process in processes:\n",
    "        process.join()"
   ]
  }
 ],
 "metadata": {
  "kernelspec": {
   "display_name": "Python 3",
   "language": "python",
   "name": "python3"
  },
  "language_info": {
   "codemirror_mode": {
    "name": "ipython",
    "version": 3
   },
   "file_extension": ".py",
   "mimetype": "text/x-python",
   "name": "python",
   "nbconvert_exporter": "python",
   "pygments_lexer": "ipython3",
   "version": "3.12.5"
  }
 },
 "nbformat": 4,
 "nbformat_minor": 2
}
