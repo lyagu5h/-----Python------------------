{
  "cells": [
    {
      "cell_type": "markdown",
      "metadata": {
        "id": "zwWum4yz_t4E"
      },
      "source": [
        "# Вебинар «Файлы и структуры данных (JSON, XML, YAML)»"
      ]
    },
    {
      "cell_type": "markdown",
      "metadata": {
        "id": "RcxzJr9Ju0ug"
      },
      "source": [
        "## Проверка связи"
      ]
    },
    {
      "cell_type": "markdown",
      "metadata": {
        "id": "FfKUcVdcu0uj"
      },
      "source": [
        "**Поставьте в чат:**<br>\n",
        "\\+ если меня видно и слышно<br>\n",
        " – если нет\n",
        "\n",
        "**Если у вас нет звука:**\n",
        "\n",
        "* убедитесь, что на вашем устройстве и колонках включён звук\n",
        "\n",
        "* обновите страницу вебинара или закройте её и переподключитесь\n",
        "\n",
        "* откройте вебинар в другом браузере\n",
        "\n",
        "* перезагрузите ваше устройство и войдите снова"
      ]
    },
    {
      "cell_type": "markdown",
      "metadata": {
        "id": "n-Lglnauu0uk"
      },
      "source": [
        "## О спикере"
      ]
    },
    {
      "cell_type": "markdown",
      "metadata": {
        "id": "6PGfObJCu0ul"
      },
      "source": [
        "**Глеб Пехов**\n",
        "- Python backend-разработчик с 5-летним опытом работы\n",
        "- Преподаватель в Нетологии"
      ]
    },
    {
      "cell_type": "code",
      "source": [],
      "metadata": {
        "id": "ce_ZXeEbNKnu"
      },
      "execution_count": null,
      "outputs": []
    },
    {
      "cell_type": "markdown",
      "source": [
        "## Правила участия"
      ],
      "metadata": {
        "id": "mfCYMvwKTjqd"
      }
    },
    {
      "cell_type": "markdown",
      "source": [
        "1. Продолжительность вебинара — 80 минут. Через 40 минут сделаем перерыв на 5 минут\n",
        "2. Запустите Jupyter Notebook, Google Colab или IDE, чтобы выполнять практические задания вебинара. Во время демонстрации работы повторяйте за спикером: это помогает лучше понять материал\n",
        "3. Создайте копию этого блокнота, чтобы фиксировать вопросы и важную информацию во время занятия\n",
        "4. Вы можете писать вопросы в чате во время вебинара или задавать их вслух в блоке «Ваши вопросы»\n",
        "5. Запись вебинара будет доступна в личном кабинете"
      ],
      "metadata": {
        "id": "NCPYxDrCToeb"
      }
    },
    {
      "cell_type": "markdown",
      "metadata": {
        "id": "H1VW_LI8u0un"
      },
      "source": [
        "## Цели занятия"
      ]
    },
    {
      "cell_type": "markdown",
      "metadata": {
        "id": "OdToGPz6u0uo"
      },
      "source": [
        "- На практике научиться работать с файлами в Python\n",
        "- Разобраться в основных форматах файлов: JSON, XML, YAML и т. д."
      ]
    },
    {
      "cell_type": "markdown",
      "source": [
        "##План"
      ],
      "metadata": {
        "id": "k5jsrrpTB-NG"
      }
    },
    {
      "cell_type": "markdown",
      "source": [
        "1. Какие бывают форматы файлов\n",
        "2. Формат JSON\n",
        "3. Формат YAML\n",
        "4. Формат XML\n",
        "5. Формат TOML\n",
        "6. Формат CSV\n",
        "7. Как работать с файлами в Python\n",
        "8. Контекстный менеджер\n",
        "9. Пакетный менеджер pip\n",
        "10. Виртуальное окружение virtualenv\n",
        "11. Линтеры и форматтеры для работы с кодом и импортами"
      ],
      "metadata": {
        "id": "oMaixVirELhc"
      }
    },
    {
      "cell_type": "markdown",
      "metadata": {
        "id": "CxE3zVrXksRv"
      },
      "source": [
        "## Ваши вопросы"
      ]
    },
    {
      "cell_type": "markdown",
      "metadata": {
        "id": "abATGNwTu0up"
      },
      "source": [
        "## 1. Какие бывают форматы файлов"
      ]
    },
    {
      "cell_type": "markdown",
      "metadata": {
        "id": "VWIruEONu0up"
      },
      "source": [
        "• JSON (JavaScript Object Notation) — текстовый формат обмена данными, основанный на JavaScript (.json)"
      ]
    },
    {
      "cell_type": "markdown",
      "metadata": {
        "id": "wusrM8CBu0uq"
      },
      "source": [
        "• XML (eXtensible Markup Language) — расширяемый язык разметки (.xml)"
      ]
    },
    {
      "cell_type": "markdown",
      "metadata": {
        "id": "xV0jn7iKu0ur"
      },
      "source": [
        "• YAML — популярный язык для конфигурационных файлов (.yml)"
      ]
    },
    {
      "cell_type": "markdown",
      "metadata": {
        "id": "rcXpmchEu0ur"
      },
      "source": [
        "• TOML — формат сериализации данных (.toml)"
      ]
    },
    {
      "cell_type": "markdown",
      "metadata": {
        "id": "sE9CebymVdFO"
      },
      "source": [
        "## Ваши вопросы"
      ]
    },
    {
      "cell_type": "markdown",
      "metadata": {
        "id": "c8yOfQm4u0us"
      },
      "source": [
        "## 2. Формат JSON"
      ]
    },
    {
      "cell_type": "markdown",
      "source": [
        "###Что такое JSON"
      ],
      "metadata": {
        "id": "xx9XhcstDj2J"
      }
    },
    {
      "cell_type": "markdown",
      "source": [
        "Примеры:\n",
        "\n",
        "```json\n",
        "{\n",
        "  \"first_name\": \"Иван\",\n",
        "  \"second_name\": \"Иванов\"\n",
        "}\n",
        "\n",
        "\n",
        "{\n",
        "    \"first_name\": \"Глеб\",\n",
        "    \"age\": 26\n",
        "}\n",
        "```\n",
        "\n"
      ],
      "metadata": {
        "id": "Vluq5CJAqIRA"
      }
    },
    {
      "cell_type": "markdown",
      "metadata": {
        "id": "0Yb6unNmu0us"
      },
      "source": [
        "Неупорядоченное количество пар вида «ключ: значение»."
      ]
    },
    {
      "cell_type": "markdown",
      "metadata": {
        "id": "BmgCi-Seu0us"
      },
      "source": [
        "Формат независим от JavaScript и может использоваться в любом языке программирования."
      ]
    },
    {
      "cell_type": "markdown",
      "source": [
        "### Где используется JSON"
      ],
      "metadata": {
        "id": "yLi7hyZHD-zG"
      }
    },
    {
      "cell_type": "markdown",
      "metadata": {
        "id": "9OhyH9ERu0ut"
      },
      "source": [
        "Чаще всего используется в REST- и JRPC-запросах.\n",
        "\n",
        "\n"
      ]
    },
    {
      "cell_type": "code",
      "execution_count": null,
      "metadata": {
        "id": "OBd6FHk9u0ut"
      },
      "outputs": [],
      "source": [
        "from fastapi import FastAPI\n",
        "from fastapi.responses import ORJSONResponse\n",
        "app = FastAPI()\n",
        "\n",
        "\n",
        "@app.get(\"/\")\n",
        "async def root() -> ORJSONResponse:\n",
        "    return {\"message\": \"Hello World\"}\n",
        "\n",
        "# uvicorn examples:app --reload"
      ]
    },
    {
      "cell_type": "markdown",
      "metadata": {
        "vscode": {
          "languageId": "raw"
        },
        "id": "Qa1JB44Au0uu"
      },
      "source": [
        "1. INFO:     127.0.0.1:56908 - \"GET /openapi.json HTTP/1.1\" 200 OK\n",
        "2. INFO:     127.0.0.1:56908 - \"GET / HTTP/1.1\" 200 OK"
      ]
    },
    {
      "cell_type": "markdown",
      "metadata": {
        "vscode": {
          "languageId": "raw"
        },
        "id": "rqRMrfJau0uu"
      },
      "source": [
        "\n",
        "- Code\tDetails\n",
        "- 200\n",
        "- Response body\n",
        "{\n",
        "  \"message\": \"Hello World\" # Этот объект - JSON\n",
        "}"
      ]
    },
    {
      "cell_type": "markdown",
      "metadata": {
        "id": "9MEFI_KAVevr"
      },
      "source": [
        "## Ваши вопросы"
      ]
    },
    {
      "cell_type": "markdown",
      "metadata": {
        "id": "8qHL_ZZCu0uu"
      },
      "source": [
        "## 3. Формат YAML\n",
        "\n"
      ]
    },
    {
      "cell_type": "markdown",
      "metadata": {
        "id": "jg2Bv0xBu0uv"
      },
      "source": [
        "**YAML** — язык для сериализации данных, который отличается простым синтаксисом и позволяет хранить сложноорганизованные данные в компактном и читаемом формате.\n",
        "Конфиги DevOps часто представлены именно в этом формате."
      ]
    },
    {
      "cell_type": "markdown",
      "source": [
        "```yaml\n",
        "---\n",
        "player: playerOne\n",
        "action: attack (miss)\n",
        "---\n",
        "player: playerTwo\n",
        "action: attack (hit)\n",
        "---\n",
        "```\n",
        "\n"
      ],
      "metadata": {
        "id": "etsjWxnrqUdX"
      }
    },
    {
      "cell_type": "markdown",
      "source": [
        "\n",
        "```yaml\n",
        " author: Charles R. Saunders\n",
        " language: English\n",
        " publication-year: 1981\n",
        " pages: 22\n",
        "```\n",
        "\n"
      ],
      "metadata": {
        "id": "WkZpoNLwqXrM"
      }
    },
    {
      "cell_type": "markdown",
      "metadata": {
        "id": "Q74wP2zMVftt"
      },
      "source": [
        "## Ваши вопросы"
      ]
    },
    {
      "cell_type": "markdown",
      "metadata": {
        "id": "AG5QIdzyu0uv"
      },
      "source": [
        "## 4. Формат XML"
      ]
    },
    {
      "cell_type": "markdown",
      "metadata": {
        "id": "ftapaYlhu0uw"
      },
      "source": [
        "**XML** — язык разметки, подобный HTML. Расшифровывается с английского языка как Extensible Markup Language — расширяемый язык разметки."
      ]
    },
    {
      "cell_type": "markdown",
      "metadata": {
        "id": "RIkwN8h2u0uw"
      },
      "source": [
        "Раньше часто использовался для SOAP (англ. Simple Object Access Protocol — протокол обмена сообщениями)."
      ]
    },
    {
      "cell_type": "markdown",
      "metadata": {
        "id": "2zejI1C8u0uw"
      },
      "source": [
        "Пример:\n",
        "```xml\n",
        "<req>\n",
        "<first_name>Иван</first_name>\n",
        "<last_name>Иванов</last_name>\n",
        "</req>\n",
        "\n",
        "```\n",
        "\n"
      ]
    },
    {
      "cell_type": "markdown",
      "metadata": {
        "id": "UHaSJYKoVhXK"
      },
      "source": [
        "## Ваши вопросы"
      ]
    },
    {
      "cell_type": "markdown",
      "source": [
        "## 5. Формат TOML"
      ],
      "metadata": {
        "id": "d_Eh0gzxJTxQ"
      }
    },
    {
      "cell_type": "markdown",
      "source": [
        "### Демонстрация работы"
      ],
      "metadata": {
        "id": "Vt-kDE9JJWTY"
      }
    },
    {
      "cell_type": "markdown",
      "metadata": {
        "id": "RdPtIbDgVjKt"
      },
      "source": [
        "## Ваши вопросы"
      ]
    },
    {
      "cell_type": "markdown",
      "source": [
        "## 6. Формат CSV"
      ],
      "metadata": {
        "id": "MX0OsJXWVlwX"
      }
    },
    {
      "cell_type": "markdown",
      "source": [
        "CSV — текстовый формат, предназначенный для представления табличных данных.\n",
        "\n",
        "Можно открыть в Excel, но также можно с лёгкостью работать внутри Python."
      ],
      "metadata": {
        "id": "KJJ7LdQAJAAp"
      }
    },
    {
      "cell_type": "markdown",
      "metadata": {
        "id": "pUXkx4tuVk3J"
      },
      "source": [
        "## Ваши вопросы"
      ]
    },
    {
      "cell_type": "markdown",
      "metadata": {
        "id": "LkjJulIsu0ux"
      },
      "source": [
        "## 7. Как работать с файлами в Python"
      ]
    },
    {
      "cell_type": "markdown",
      "source": [
        "* 'r' — открывает файл на чтение\n",
        "* 'w' — открывает файл на запись. Если файла нет, будет создан новый.\n",
        "    Если файл существует, данные в нём будут перезаписаны\n",
        "* 't' — открывает файл как текстовый\n",
        "* 'b' — открывает файл в бинарном режиме\n",
        "* 'a' — открывает файл и дозаписывает в него данные, не стирая предыдущие.\n",
        "    Создаёт новый файл, если он не существует"
      ],
      "metadata": {
        "id": "IEn5WXSGqcie"
      }
    },
    {
      "cell_type": "code",
      "execution_count": null,
      "metadata": {
        "id": "ESpzqwYru0uy",
        "outputId": "d74df674-94e3-4519-f8be-98ed21b7366c"
      },
      "outputs": [
        {
          "name": "stdout",
          "output_type": "stream",
          "text": [
            "hello_world.txt\n",
            "r\n",
            "hello world\n",
            "\n",
            "\n"
          ]
        }
      ],
      "source": [
        "file = open(file='hello_world.txt', mode='r')\n",
        "print(file.name) # Выведет название файла\n",
        "print(file.mode) # Выведет режим работы с файлом\n",
        "# print(file.read())\n",
        "print(file.readline())\n",
        "print(file.read(5)) # Принимает int, выведет определённое количество символов. Важно: начиная с 1\n",
        "file.close() # Устаревший вариант"
      ]
    },
    {
      "cell_type": "code",
      "execution_count": null,
      "metadata": {
        "scrolled": true,
        "id": "__ns4-xmoEE_",
        "outputId": "88ac305f-0b78-4011-abe9-71be4e3fc97e"
      },
      "outputs": [
        {
          "name": "stdout",
          "output_type": "stream",
          "text": [
            "['hello_world\\n', 'hello_world\\n', 'hello_world\\n']\n"
          ]
        }
      ],
      "source": [
        "big_file = open(file='hello_world_some_times.txt', mode='r')\n",
        "print(big_file.readlines())\n",
        "for line in big_file.readlines():\n",
        "    print(line)\n",
        "\n",
        "# print(type(big_file))\n",
        "# TextIOWrapper - и так хранит внутри себя все строки. Нет необходимости считывать файл целиком. Можно переходить к генератору. (!)\n",
        "\n",
        "# for line in big_file:\n",
        "#     print(line)"
      ]
    },
    {
      "cell_type": "code",
      "execution_count": null,
      "metadata": {
        "id": "EKCnHl7gu0u0",
        "outputId": "863a82f6-a593-429b-8624-3e62c052c1b7"
      },
      "outputs": [
        {
          "name": "stdout",
          "output_type": "stream",
          "text": [
            ".ipynb_checkpoints\n",
            "04. Functions.ipynb\n",
            "heh.py\n",
            "ineedit\n",
            "ss.py\n"
          ]
        }
      ],
      "source": [
        "import os\n",
        "\n",
        "# Чтение файлов и папок\n",
        "for file in os.listdir('/Users/Gleb/Desktop/Algsila'):\n",
        "    print(file)"
      ]
    },
    {
      "cell_type": "markdown",
      "metadata": {
        "id": "bOO8KmJRVrK2"
      },
      "source": [
        "## Ваши вопросы"
      ]
    },
    {
      "cell_type": "markdown",
      "metadata": {
        "id": "xz5IyEneu0u1"
      },
      "source": [
        "## 8. Контекстный менеджер"
      ]
    },
    {
      "cell_type": "markdown",
      "metadata": {
        "id": "Z0rsYinXu0u1"
      },
      "source": [
        "Контекстные менеджеры нужны, чтобы выполнять некоторые обязательные действия после того, как мы что-то сделали.\n",
        "\n",
        "Примеры назначения контекстного менеджера:\n",
        "\n",
        "- закрывать файл после записи, иначе данные не сохранятся\n",
        "- закрывать соединение, чтобы не потерять данные"
      ]
    },
    {
      "cell_type": "markdown",
      "source": [
        "Контекстный менеджер — целевое решение для работы с файлами. Сейчас всю работу с файлами выполняют с помощью контекстных менеджеров.\n",
        "\n",
        "К примеру, если файл не закрыть, то изменения не будут внесены. Контекстный менеджер делает это за нас.\n",
        "\n",
        "\n",
        "Перепишем всю предыдущую логику при помощи контекстного менеджера."
      ],
      "metadata": {
        "id": "wC15r7YxqiI6"
      }
    },
    {
      "cell_type": "code",
      "execution_count": null,
      "metadata": {
        "id": "ec2qEbiUu0u2",
        "outputId": "bde36a2b-fe53-4373-c956-146610ea2211"
      },
      "outputs": [
        {
          "name": "stdout",
          "output_type": "stream",
          "text": [
            "hello world\n",
            "\n",
            "информация из файла hello_world.txt\n",
            "\n",
            "hello_world\n",
            "\n",
            "hello_world\n",
            "\n",
            "hello_world\n",
            "\n",
            "информация из файла hello_world_some_times.txt\n",
            "\n"
          ]
        }
      ],
      "source": [
        "with open(file='hello_world.txt') as file:\n",
        "    for line in file:\n",
        "        print(line)\n",
        "    print('информация из файла hello_world.txt\\n')\n",
        "\n",
        "with open(file='hello_world_some_times.txt') as file:\n",
        "    for line in file:\n",
        "        print(line)\n",
        "    print('информация из файла hello_world_some_times.txt\\n')"
      ]
    },
    {
      "cell_type": "markdown",
      "source": [
        "Рассмотрим запись в файл"
      ],
      "metadata": {
        "id": "scdyr-_SqlHF"
      }
    },
    {
      "cell_type": "code",
      "execution_count": null,
      "metadata": {
        "id": "8C2wbd-xu0u2"
      },
      "outputs": [],
      "source": [
        "some_items = ['Привет', 'Hello World', 'Сегодня суббота']\n",
        "\n",
        "with open(file='something.txt', mode='w', encoding='utf-8') as file: # Использовали mode='w', чтобы записать в файл (и создать его)\n",
        "    # file.write('Hello_world!') # Передаём здесь только строку\n",
        "\n",
        "    for i in some_items:\n",
        "        file.write(f\"{i}\\n\")"
      ]
    },
    {
      "cell_type": "code",
      "execution_count": null,
      "metadata": {
        "id": "B0-70ysMu0u3",
        "outputId": "6892c7f3-5910-43bf-98e2-92af86a61238"
      },
      "outputs": [
        {
          "name": "stdout",
          "output_type": "stream",
          "text": [
            "{'user_id': 123, 'category': 'some1'}\n",
            "<class 'dict'>\n"
          ]
        }
      ],
      "source": [
        "import json\n",
        "\n",
        "with open(file='example.json', mode='r', encoding='utf-8') as file:\n",
        "    pyresponse = json.loads(file.read())\n",
        "    print(pyresponse)\n",
        "    print(type(pyresponse))"
      ]
    },
    {
      "cell_type": "code",
      "execution_count": null,
      "metadata": {
        "id": "UYxxZODSu0u3",
        "outputId": "00e0f2cb-fddd-42db-ccaa-d9168bc9050f"
      },
      "outputs": [
        {
          "name": "stdout",
          "output_type": "stream",
          "text": [
            "Privet\tHello_world\tSomething\n"
          ]
        }
      ],
      "source": [
        "import csv\n",
        "with open('example.csv', newline='') as csvfile:\n",
        "    spamreader = csv.reader(csvfile, delimiter=' ', quotechar='|')\n",
        "    for row in spamreader:\n",
        "        print(','.join(row))"
      ]
    },
    {
      "cell_type": "markdown",
      "metadata": {
        "id": "r3vqB79qVtDe"
      },
      "source": [
        "## Ваши вопросы"
      ]
    },
    {
      "cell_type": "markdown",
      "metadata": {
        "id": "6Ol0wNEWu0u3"
      },
      "source": [
        "## 9. Пакетный менеджер pip"
      ]
    },
    {
      "cell_type": "markdown",
      "metadata": {
        "id": "S0i5dMzDu0u3"
      },
      "source": [
        "Pip — пакетный менеджер.\n",
        "- Доступен из «коробки»\n",
        "- Помогает установить любые общедоступные библиотеки"
      ]
    },
    {
      "cell_type": "markdown",
      "metadata": {
        "id": "wNC7F8T-u0u4"
      },
      "source": [
        "Основные команды:\n",
        "- pip help — помощь по доступным командам\n",
        "\n",
        "- pip install package_name — установка пакета(ов)\n",
        "\n",
        "- pip uninstall package_name — удаление пакета(ов)\n",
        "\n",
        "- pip list — отображение списка установленных пакетов\n",
        "\n",
        "- pip show package_name — отображение информации об установленном пакете\n",
        "\n",
        "- pip search — поиск пакетов по имени"
      ]
    },
    {
      "cell_type": "markdown",
      "metadata": {
        "id": "KxfnQIRwVuKl"
      },
      "source": [
        "## Ваши вопросы"
      ]
    },
    {
      "cell_type": "markdown",
      "metadata": {
        "id": "2JKTI-4au0u4"
      },
      "source": [
        "## 10. Виртуальное окружение virtualenv"
      ]
    },
    {
      "cell_type": "markdown",
      "source": [
        "Virtualenv — сторонняя библиотека.\n",
        "\n",
        "[Ссылка на документацию](https://virtualenv.pypa.io/en/latest/)"
      ],
      "metadata": {
        "id": "18m8F6TWqojv"
      }
    },
    {
      "cell_type": "markdown",
      "metadata": {
        "id": "GGsQlKKJu0u4"
      },
      "source": [
        "Команды:\n",
        "- virtualenv myenv — создание виртуальной среды\n",
        "-  .\\my_env\\Scripts\\activate — активация"
      ]
    },
    {
      "cell_type": "markdown",
      "metadata": {
        "id": "PlIdj1BTVvDW"
      },
      "source": [
        "## Ваши вопросы"
      ]
    },
    {
      "cell_type": "markdown",
      "metadata": {
        "id": "rYX3bBsSu0u5"
      },
      "source": [
        "## 11. Линтеры и форматтеры для работы с кодом и импортами"
      ]
    },
    {
      "cell_type": "code",
      "execution_count": null,
      "metadata": {
        "id": "byFP5vXru0u5"
      },
      "outputs": [],
      "source": [
        "ruff, flake8, black"
      ]
    },
    {
      "cell_type": "markdown",
      "source": [
        "### Демонстрация работы"
      ],
      "metadata": {
        "id": "LmZ1x0dyNnwp"
      }
    },
    {
      "cell_type": "markdown",
      "metadata": {
        "id": "NFD6vupoVvjq"
      },
      "source": [
        "## Ваши вопросы"
      ]
    },
    {
      "cell_type": "markdown",
      "source": [
        "## Итоги занятия"
      ],
      "metadata": {
        "id": "rLeXTjq8buDx"
      }
    },
    {
      "cell_type": "markdown",
      "source": [
        "- Научились работать с файлами в Python\n",
        "- Разобрались в основных форматах файлов: JSON, XML, YAML и т. д."
      ],
      "metadata": {
        "id": "ncBFosQVV757"
      }
    },
    {
      "cell_type": "markdown",
      "source": [
        "## Анонс следующего занятия"
      ],
      "metadata": {
        "id": "rB09YSE9cUi8"
      }
    },
    {
      "cell_type": "markdown",
      "source": [
        "Вебинар по теме 5 «Параллельные вычисления. Многопоточность и многопроцессность»"
      ],
      "metadata": {
        "id": "Lzv-ReBZWGyu"
      }
    },
    {
      "cell_type": "markdown",
      "metadata": {
        "id": "OLh5bV0JWlgb"
      },
      "source": [
        "## Ваши вопросы"
      ]
    }
  ],
  "metadata": {
    "colab": {
      "provenance": []
    },
    "kernelspec": {
      "display_name": "Python 3 (ipykernel)",
      "language": "python",
      "name": "python3"
    },
    "language_info": {
      "codemirror_mode": {
        "name": "ipython",
        "version": 3
      },
      "file_extension": ".py",
      "mimetype": "text/x-python",
      "name": "python",
      "nbconvert_exporter": "python",
      "pygments_lexer": "ipython3",
      "version": "3.12.0"
    }
  },
  "nbformat": 4,
  "nbformat_minor": 0
}