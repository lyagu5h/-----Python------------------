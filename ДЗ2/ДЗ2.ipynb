{
 "cells": [
  {
   "cell_type": "markdown",
   "metadata": {},
   "source": [
    "### Задание 1. Копирование содержимого одного файла в другой\n",
    "Создайте программу, которая копирует содержимое файла source.txt в новый файл destination.txt."
   ]
  },
  {
   "cell_type": "code",
   "execution_count": 50,
   "metadata": {},
   "outputs": [],
   "source": [
    "with open('./files/source.txt', 'r') as source_file, open('./results/destination.txt', 'w') as destination_file:\n",
    "    destination_file.write(source_file.read())"
   ]
  },
  {
   "cell_type": "markdown",
   "metadata": {},
   "source": [
    "### Задание 2. Подсчёт стоимости заказа из файла\n",
    "Напишите программу, которая считывает файл prices.txt, содержащий информацию о товарах: название, количество и цену, и подсчитывает общую стоимость заказа."
   ]
  },
  {
   "cell_type": "code",
   "execution_count": 9,
   "metadata": {},
   "outputs": [
    {
     "name": "stdout",
     "output_type": "stream",
     "text": [
      "890\n"
     ]
    }
   ],
   "source": [
    "with open('./files/prices.txt', 'r') as prices_file:\n",
    "    for line in prices_file.readlines():\n",
    "        data = line.strip().split()\n",
    "        product_count = int(data[1])\n",
    "        product_price = int(data[2])\n",
    "        sum += product_count * product_price\n",
    "print(sum)"
   ]
  },
  {
   "cell_type": "markdown",
   "metadata": {},
   "source": [
    "### Задание 3. Подсчёт количества слов в файле\n",
    "Напишите программу, которая подсчитывает количество слов в текстовом файле text_file.txt и выводит результат на экран."
   ]
  },
  {
   "cell_type": "code",
   "execution_count": 36,
   "metadata": {},
   "outputs": [
    {
     "name": "stdout",
     "output_type": "stream",
     "text": [
      "19\n"
     ]
    }
   ],
   "source": [
    "def isMark(str):\n",
    "    return str.lower() == str.upper()\n",
    "\n",
    "count = 0\n",
    "with open(file='./files/text_file.txt', mode='r', encoding='utf-8') as text_file:\n",
    "    for line in text_file:\n",
    "        text = line.strip().split()\n",
    "        for str in text:\n",
    "            # print(str, isMark(str))\n",
    "            if isMark(str):\n",
    "                continue\n",
    "            count += 1\n",
    "print(count)\n"
   ]
  },
  {
   "cell_type": "markdown",
   "metadata": {},
   "source": [
    "### Задание 4. Копирование уникального содержимого одного файла в другой\n",
    "Создайте программу, которая считывает строки из файла input.txt, сохраняет только уникальные строки и записывает их в новый файл unique_output.txt."
   ]
  },
  {
   "cell_type": "code",
   "execution_count": 49,
   "metadata": {},
   "outputs": [],
   "source": [
    "unique_strs = set()\n",
    "\n",
    "with open(file='./files/input.txt', mode='r', encoding='utf-8') as input_file, open(file='./results/unique_output.txt', mode='w', encoding='utf-8') as unique_file:\n",
    "        for line in input_file:\n",
    "            line = line.strip()\n",
    "            if line not in unique_strs:\n",
    "                unique_file.write(line)\n",
    "            unique_strs.add(line)"
   ]
  }
 ],
 "metadata": {
  "kernelspec": {
   "display_name": "Python 3",
   "language": "python",
   "name": "python3"
  },
  "language_info": {
   "codemirror_mode": {
    "name": "ipython",
    "version": 3
   },
   "file_extension": ".py",
   "mimetype": "text/x-python",
   "name": "python",
   "nbconvert_exporter": "python",
   "pygments_lexer": "ipython3",
   "version": "3.12.5"
  }
 },
 "nbformat": 4,
 "nbformat_minor": 2
}
