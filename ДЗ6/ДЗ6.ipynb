{
 "cells": [
  {
   "cell_type": "markdown",
   "metadata": {},
   "source": [
    "### Задание 1: Получение данных из публичного API\n",
    "\n",
    "1. Выберите публичный API (например, JSONPlaceholder).\n",
    "2. Напишите скрипт, который:\n",
    "\n",
    "    * Отправляет GET-запрос к /posts.\n",
    "\n",
    "    * Извлекает и выводит заголовки и тела первых 5 постов."
   ]
  },
  {
   "cell_type": "code",
   "execution_count": 1,
   "metadata": {},
   "outputs": [
    {
     "name": "stdout",
     "output_type": "stream",
     "text": [
      "{'userId': 1, 'id': 1, 'title': 'sunt aut facere repellat provident occaecati excepturi optio reprehenderit', 'body': 'quia et suscipit\\nsuscipit recusandae consequuntur expedita et cum\\nreprehenderit molestiae ut ut quas totam\\nnostrum rerum est autem sunt rem eveniet architecto'}\n",
      "{'userId': 1, 'id': 2, 'title': 'qui est esse', 'body': 'est rerum tempore vitae\\nsequi sint nihil reprehenderit dolor beatae ea dolores neque\\nfugiat blanditiis voluptate porro vel nihil molestiae ut reiciendis\\nqui aperiam non debitis possimus qui neque nisi nulla'}\n",
      "{'userId': 1, 'id': 3, 'title': 'ea molestias quasi exercitationem repellat qui ipsa sit aut', 'body': 'et iusto sed quo iure\\nvoluptatem occaecati omnis eligendi aut ad\\nvoluptatem doloribus vel accusantium quis pariatur\\nmolestiae porro eius odio et labore et velit aut'}\n",
      "{'userId': 1, 'id': 4, 'title': 'eum et est occaecati', 'body': 'ullam et saepe reiciendis voluptatem adipisci\\nsit amet autem assumenda provident rerum culpa\\nquis hic commodi nesciunt rem tenetur doloremque ipsam iure\\nquis sunt voluptatem rerum illo velit'}\n",
      "{'userId': 1, 'id': 5, 'title': 'nesciunt quas odio', 'body': 'repudiandae veniam quaerat sunt sed\\nalias aut fugiat sit autem sed est\\nvoluptatem omnis possimus esse voluptatibus quis\\nest aut tenetur dolor neque'}\n"
     ]
    }
   ],
   "source": [
    "import requests\n",
    "\n",
    "def getPosts():\n",
    "    response = requests.get('https://jsonplaceholder.typicode.com/posts')\n",
    "    if response.status_code == 200:\n",
    "        data = response.json()\n",
    "        for i in range(0, 5):\n",
    "            print(data[i])\n",
    "    else:\n",
    "        print(f'Error: {response.status_code}')\n",
    "\n",
    "getPosts()\n"
   ]
  },
  {
   "cell_type": "markdown",
   "metadata": {},
   "source": [
    "### Задание 2: Работа с параметрами запроса\n",
    "\n",
    "1. Используйте API OpenWeatherMap для получения данных о погоде.\n",
    "2. Напишите программу, которая:\n",
    "\n",
    "   * Принимает название города от пользователя.\n",
    "  \n",
    "   * Отправляет GET-запрос к API и выводит текущую температуру и описание погоды."
   ]
  },
  {
   "cell_type": "code",
   "execution_count": null,
   "metadata": {},
   "outputs": [
    {
     "name": "stdout",
     "output_type": "stream",
     "text": [
      "Current Temperature: -0.7°C;\n",
      "Condition: Partly cloudy\n",
      "Current Temperature: -0.1°C;\n",
      "Condition: Cloudy\n",
      "Error: {\"error\":{\"code\":1006,\"message\":\"No matching location found.\"}}\n"
     ]
    }
   ],
   "source": [
    "def getCityWether(city):\n",
    "    api_key = '375e74d0afa24c4d85225130232110'\n",
    "    base_url = 'http://api.weatherapi.com/v1/current.json'\n",
    "    params = {\n",
    "        'key': api_key,\n",
    "        'q': city\n",
    "    }\n",
    "    response = requests.get(base_url, params=params)\n",
    "    if response.status_code == 200:\n",
    "        data = response.json()\n",
    "        print(f'Current Temperature: {data[\"current\"][\"temp_c\"]}°C;\\nCondition: {data[\"current\"][\"condition\"][\"text\"]}')\n",
    "    elif response.status_code == 404:\n",
    "        print(f'Error: {response.status_code}, city not found')\n",
    "    elif response.status_code == 400:\n",
    "        print(f'Error: {response.status_code}, bad request')\n",
    "    else:\n",
    "        print(f'Error: {response.status_code}')\n",
    "\n",
    "getCityWether('Moscow')\n",
    "getCityWether('Saratov')\n",
    "getCityWether('aSdffeafsdf')\n"
   ]
  },
  {
   "cell_type": "markdown",
   "metadata": {},
   "source": [
    "### Задание 3: Создание и обработка POST-запросов\n",
    "\n",
    "1. Выберите API, который позволяет создавать ресурсы (например, JSONPlaceholder).\n",
    "2. Напишите программу, которая:\n",
    "   \n",
    "   * Отправляет POST-запрос для создания нового поста.\n",
    "  \n",
    "   * Выводит ID созданного поста и его содержимое."
   ]
  },
  {
   "cell_type": "code",
   "execution_count": null,
   "metadata": {},
   "outputs": [
    {
     "name": "stdout",
     "output_type": "stream",
     "text": [
      "{'title': 'Episode 1: Nightmare', 'body': 'In a horror story, the victim keeps asking \"Why?\", but there can be no explanation, and there shouldn\\'t be one. The unanswered mystery is what stays with us the longest, and it\\'s what we\\'ll remember in the end. My name is Alan Wake; I\\'m a writer.', 'id': 101}\n"
     ]
    }
   ],
   "source": [
    "def postMessage(title, message):\n",
    "    url = 'https://jsonplaceholder.typicode.com/posts';\n",
    "    new_post = {\n",
    "        'title': title,\n",
    "        'body': message,\n",
    "    }\n",
    "    response = requests.post(url, json=new_post);\n",
    "    if response.status_code == 201:\n",
    "        data = response.json()\n",
    "        print(data)\n",
    "    elif response.status_code == 429:\n",
    "        print(f'Error: {response.status_code}, too many requests')\n",
    "    elif response.status_code == 503:\n",
    "        print(f'Error: {response.status_code}, service unavailable')\n",
    "    else:\n",
    "        print(f'Error: {response.status_code}')\n",
    "    \n",
    "postMessage('Episode 1: Nightmare', \"In a horror story, the victim keeps asking \\\"Why?\\\", but there can be no explanation, and there shouldn't be one. The unanswered mystery is what stays with us the longest, and it's what we'll remember in the end. My name is Alan Wake; I'm a writer.\")"
   ]
  }
 ],
 "metadata": {
  "kernelspec": {
   "display_name": "Python 3",
   "language": "python",
   "name": "python3"
  },
  "language_info": {
   "codemirror_mode": {
    "name": "ipython",
    "version": 3
   },
   "file_extension": ".py",
   "mimetype": "text/x-python",
   "name": "python",
   "nbconvert_exporter": "python",
   "pygments_lexer": "ipython3",
   "version": "3.12.5"
  }
 },
 "nbformat": 4,
 "nbformat_minor": 2
}
